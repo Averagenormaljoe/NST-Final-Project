{
 "cells": [
  {
   "cell_type": "code",
   "execution_count": null,
   "id": "b8a53c60",
   "metadata": {},
   "outputs": [],
   "source": [
    "import numpy as np\n",
    "import tensorflow as tf\n",
    "from tensorflow.keras.applications import vgg19\n",
    "from tensorflow.keras.models import load_model,Model\n",
    "from PIL import Image\n",
    "import time\n",
    "import matplotlib.pyplot as plt\n",
    "import matplotlib\n",
    "import requests\n",
    "import base64\n",
    "import os\n",
    "from pathlib import Path\n",
    "from io import BytesIO\n",
    "matplotlib.rcParams['figure.figsize'] = (12,12)\n",
    "matplotlib.rcParams['axes.grid'] = False"
   ]
  },
  {
   "cell_type": "code",
   "execution_count": null,
   "id": "b9722155",
   "metadata": {},
   "outputs": [],
   "source": [
    "style_layer_names = [\n",
    " \"relu1_2\",\n",
    " \"relu2_2\",\n",
    " \"relu3_3\",\n",
    " \"block4_3\",\n",
    "]\n",
    "content_layer_names = [\"relu3_3\"]"
   ]
  },
  {
   "cell_type": "code",
   "execution_count": null,
   "id": "d09f1a92",
   "metadata": {},
   "outputs": [],
   "source": [
    "content_weight_ = 0.005\n",
    "style_weight_ = 200\n",
    "tv_weight_ = 1e-3\n",
    "lap_weights_ = {4:25, 16:75}"
   ]
  },
  {
   "cell_type": "code",
   "execution_count": null,
   "id": "87cc92de",
   "metadata": {},
   "outputs": [],
   "source": [
    "import tensorflow as tf\n",
    "\n",
    "\n",
    "vgg = tf.keras.applications.VGG19(include_top=False, weights='imagenet')\n",
    "optimizer = tf.keras.optimizers.SGD(learning_rate=0.01, momentum=0.9)\n"
   ]
  },
  {
   "cell_type": "code",
   "execution_count": null,
   "id": "3da647f1",
   "metadata": {},
   "outputs": [],
   "source": [
    "vgg.summary()"
   ]
  },
  {
   "cell_type": "code",
   "execution_count": null,
   "id": "e8187d58",
   "metadata": {},
   "outputs": [],
   "source": [
    "epochs=6"
   ]
  },
  {
   "cell_type": "code",
   "execution_count": null,
   "id": "8c7f2bb3",
   "metadata": {},
   "outputs": [],
   "source": [
    "input_shape=(512,512,3)\n",
    "batch_size=67"
   ]
  },
  {
   "cell_type": "code",
   "execution_count": null,
   "id": "5fe8587a",
   "metadata": {},
   "outputs": [],
   "source": [
    "training_model = None"
   ]
  },
  {
   "cell_type": "code",
   "execution_count": null,
   "id": "bffcd1c6",
   "metadata": {},
   "outputs": [],
   "source": [
    "save_path = \"checkpoints/\""
   ]
  },
  {
   "cell_type": "code",
   "execution_count": null,
   "id": "e4941155",
   "metadata": {},
   "outputs": [],
   "source": [
    "n_imgs = 1000\n",
    "steps_per_epochs=num_images//batch_size\n",
    "print(steps_per_epochs)"
   ]
  },
  {
   "cell_type": "code",
   "execution_count": null,
   "id": "b80651c2",
   "metadata": {},
   "outputs": [],
   "source": [
    "checkpoint_path = os.path.join(save_path, \"model_checkpoint.ckpt\")\n",
    "checkpoint_index_path = os.path.join(save_path, \"model_checkpoint.ckpt.index\")"
   ]
  },
  {
   "cell_type": "code",
   "execution_count": null,
   "id": "7f51d88d",
   "metadata": {},
   "outputs": [],
   "source": [
    "optimizer = tf.keras.optimizers.Adam(learning_rate=1e-3)"
   ]
  },
  {
   "cell_type": "code",
   "execution_count": null,
   "id": "3ebbaf22",
   "metadata": {},
   "outputs": [],
   "source": [
    "if os.path.isfile(checkpoint_index_path):\n",
    "    training_model.load_weights(checkpoint_path)\n",
    "    print(\"Resuming previous training ...\")\n",
    "else:\n",
    "    print(\"Training from scratch ...\")"
   ]
  },
  {
   "cell_type": "code",
   "execution_count": null,
   "id": "3ea686a4",
   "metadata": {},
   "outputs": [],
   "source": [
    "\n",
    "from shared_utils.helper import create_dir\n",
    "\n",
    "\n",
    "epoch_losses=[]\n",
    "\n",
    "create_dir(save_path)\n"
   ]
  },
  {
   "cell_type": "markdown",
   "id": "715720b5",
   "metadata": {},
   "source": [
    "Plot the results"
   ]
  },
  {
   "cell_type": "code",
   "execution_count": null,
   "id": "0a2df26c",
   "metadata": {},
   "outputs": [],
   "source": [
    "def epochs_plot(epoch_losses):\n",
    "    \"\"\"\n",
    "    Plot the training loss over epochs.\n",
    "    \"\"\"\n",
    "    plt.figure(figsize=(10, 5))\n",
    "    plt.plot(epoch_losses)\n",
    "    plt.title('Training Loss/Epochs')\n",
    "    plt.xlabel('Epochs')\n",
    "    plt.ylabel('Loss')\n",
    "    plt.grid(True)\n",
    "    plt.show()\n"
   ]
  }
 ],
 "metadata": {
  "language_info": {
   "name": "python"
  }
 },
 "nbformat": 4,
 "nbformat_minor": 5
}
