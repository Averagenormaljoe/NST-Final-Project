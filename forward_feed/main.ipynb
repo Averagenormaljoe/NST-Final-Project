{
 "cells": [
  {
   "cell_type": "code",
   "execution_count": null,
   "id": "b9722155",
   "metadata": {},
   "outputs": [],
   "source": [
    "style_layer_names = [\n",
    " \"relu1_2\",\n",
    " \"relu2_2\",\n",
    " \"relu3_3\",\n",
    " \"block4_3\",\n",
    "]\n",
    "content_layer_names = [\"relu3_3\"]"
   ]
  },
  {
   "cell_type": "code",
   "execution_count": null,
   "id": "98cf3499",
   "metadata": {},
   "outputs": [],
   "source": [
    "style_layers = [\"relu1_1\", \"relu2_1\", \"relu3_1\",\"relu4_1\", \"relu5_1\"]\n",
    "content_layer = \"relu4_3\""
   ]
  },
  {
   "cell_type": "code",
   "execution_count": null,
   "id": "d09f1a92",
   "metadata": {},
   "outputs": [],
   "source": [
    "content_weight_ = 0.005\n",
    "style_weight_ = 200\n",
    "tv_weight_ = 1e-3\n",
    "lap_weights_ = {4:25, 16:75}"
   ]
  },
  {
   "cell_type": "code",
   "execution_count": null,
   "id": "87cc92de",
   "metadata": {},
   "outputs": [],
   "source": [
    "import tensorflow as tf\n",
    "\n",
    "\n",
    "vgg = tf.keras.applications.VGG19(include_top=False, weights='imagenet')\n",
    "optimizer = tf.keras.optimizers.SGD(learning_rate=0.01, momentum=0.9)\n"
   ]
  }
 ],
 "metadata": {
  "language_info": {
   "name": "python"
  }
 },
 "nbformat": 4,
 "nbformat_minor": 5
}
