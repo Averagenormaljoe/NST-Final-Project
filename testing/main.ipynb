{
 "cells": [
  {
   "cell_type": "code",
   "execution_count": null,
   "id": "ea1adb8c",
   "metadata": {},
   "outputs": [],
   "source": [
    "import tensorflow as tf\n",
    "import tensorflow_hub as hub\n",
    "import matplotlib.pyplot as plt\n",
    "import numpy as np\n",
    "import cv2\n",
    "import PIL\n",
    "\n",
    "hub_model = hub.load('https://tfhub.dev/google/magenta/arbitrary-image-stylization-v1-256/2')"
   ]
  },
  {
   "cell_type": "code",
   "execution_count": null,
   "id": "42ad159c",
   "metadata": {},
   "outputs": [],
   "source": [
    "#read image, convert to tensor, normalize and resize \n",
    "def image_read(image):\n",
    "  max_dim=512\n",
    "  image= tf.convert_to_tensor(image, dtype = tf.float32)\n",
    "  image= image/255.0\n",
    "  shape = tf.cast(tf.shape(image)[:-1], tf.float32)\n",
    "  long_dim = max(shape)\n",
    "  scale = max_dim/long_dim\n",
    "  new_shape = tf.cast(shape*scale, tf.int32)\n",
    "  new_image = tf.image.resize(image, new_shape)\n",
    "  new_image = new_image[tf.newaxis, :]\n",
    "  \n",
    "  return new_image"
   ]
  },
  {
   "cell_type": "code",
   "execution_count": null,
   "id": "5c630544",
   "metadata": {},
   "outputs": [],
   "source": [
    "#convert tensor to numpy array\n",
    "def tensor_toimage(tensor):\n",
    "  tensor =tensor*255\n",
    "  tensor = np.array(tensor, dtype=np.uint8)\n",
    "  if np.ndim(tensor)>3:\n",
    "    assert tensor.shape[0]==1\n",
    "    tensor=tensor[0]\n",
    "\n",
    "  return tenso"
   ]
  },
  {
   "cell_type": "code",
   "execution_count": null,
   "id": "3417815f",
   "metadata": {},
   "outputs": [],
   "source": [
    "style_im = cv2.imread(\"/content/style.jpg\")\n",
    "style_im = cv2.cvtColor(style_im, cv2.COLOR_BGR2RGB)\n",
    "style_im = image_read(style_im)\n",
    "\n",
    "cap = cv2.VideoCapture(\"/content/content.mp4\")\n",
    "\n",
    "\n",
    "#in order to get the size of width and shape of video, we used first frame of video\n",
    "ret, frame = cap.read()\n",
    "frame_width = image_read(frame)[0].shape[1]\n",
    "frame_height= image_read(frame)[0].shape[0]\n",
    "\n",
    "out = cv2.VideoWriter('output.mp4', cv2.VideoWriter_fourcc(*'XVID'), 10, \n",
    "                      (frame_width,frame_height))"
   ]
  },
  {
   "cell_type": "code",
   "execution_count": null,
   "id": "d5017c52",
   "metadata": {},
   "outputs": [],
   "source": [
    "while True:\n",
    "  ret, frame = cap.read()\n",
    "  if ret == True:\n",
    "    frame = cv2.cvtColor(frame, cv2.COLOR_BGR2RGB)\n",
    "    frame = image_read(frame)\n",
    "    stylized_frame = hub_model(tf.constant(frame), tf.constant(style_im))[0]\n",
    "    image = tensor_toimage(stylized_frame)\n",
    "    out.write(image)\n",
    "  else:\n",
    "    break\n",
    "\n",
    "cap.release()\n",
    "out.release()"
   ]
  }
 ],
 "metadata": {
  "kernelspec": {
   "display_name": "Python 3",
   "language": "python",
   "name": "python3"
  },
  "language_info": {
   "name": "python",
   "version": "3.12.3"
  }
 },
 "nbformat": 4,
 "nbformat_minor": 5
}
