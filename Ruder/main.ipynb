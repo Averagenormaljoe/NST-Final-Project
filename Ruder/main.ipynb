{
 "cells": [
  {
   "cell_type": "markdown",
   "id": "7c23c54c",
   "metadata": {},
   "source": [
    "Import the required libraries into the project."
   ]
  },
  {
   "cell_type": "code",
   "execution_count": null,
   "id": "39fb83ff",
   "metadata": {},
   "outputs": [],
   "source": [
    "import time\n",
    "import tensorflow as tf\n",
    "from tqdm import trange"
   ]
  },
  {
   "cell_type": "code",
   "execution_count": null,
   "id": "5776ea96",
   "metadata": {},
   "outputs": [],
   "source": [
    "def render_video():\n",
    "  for frame in range(args.start_frame, args.end_frame+1):\n",
    "    with tf.Graph().as_default():\n",
    "      print('\\n---- RENDERING VIDEO FRAME: {}/{} ----\\n'.format(frame, args.end_frame))\n",
    "      if frame == 1:\n",
    "        content_frame = get_content_frame(frame)\n",
    "        style_imgs = get_style_images(content_frame)\n",
    "        init_img = get_init_image(args.first_frame_type, content_frame, style_imgs, frame)\n",
    "        args.max_iterations = args.first_frame_iterations\n",
    "        tick = time.time()\n",
    "        stylize(content_frame, style_imgs, init_img, frame)\n",
    "        tock = time.time()\n",
    "        print('Frame {} elapsed time: {}'.format(frame, tock - tick))\n",
    "      else:\n",
    "        content_frame = get_content_frame(frame)\n",
    "        style_imgs = get_style_images(content_frame)\n",
    "        init_img = get_init_image(args.init_frame_type, content_frame, style_imgs, frame)\n",
    "        args.max_iterations = args.frame_iterations\n",
    "        tick = time.time()\n",
    "        stylize(content_frame, style_imgs, init_img, frame)\n",
    "        tock = time.time()\n",
    "        print('Frame {} elapsed time: {}'.format(frame, tock - tick))"
   ]
  }
 ],
 "metadata": {
  "language_info": {
   "name": "python"
  }
 },
 "nbformat": 4,
 "nbformat_minor": 5
}
