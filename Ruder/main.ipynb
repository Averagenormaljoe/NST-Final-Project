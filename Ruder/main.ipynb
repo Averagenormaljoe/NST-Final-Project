{
 "cells": [
  {
   "cell_type": "markdown",
   "id": "7c23c54c",
   "metadata": {},
   "source": [
    "Import the required libraries into the project."
   ]
  },
  {
   "cell_type": "code",
   "execution_count": null,
   "id": "39fb83ff",
   "metadata": {},
   "outputs": [],
   "source": [
    "import time\n",
    "import tensorflow as tf\n",
    "from tqdm import trange"
   ]
  },
  {
   "cell_type": "code",
   "execution_count": null,
   "id": "5776ea96",
   "metadata": {},
   "outputs": [],
   "source": []
  }
 ],
 "metadata": {
  "language_info": {
   "name": "python"
  }
 },
 "nbformat": 4,
 "nbformat_minor": 5
}
