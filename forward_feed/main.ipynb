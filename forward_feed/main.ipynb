{
 "cells": [
  {
   "cell_type": "code",
   "execution_count": null,
   "id": "b9722155",
   "metadata": {},
   "outputs": [],
   "source": [
    "style_layer_names = [\n",
    " \"relu1_2\",\n",
    " \"relu2_2\",\n",
    " \"relu3_3\",\n",
    " \"block4_3\",\n",
    "]\n",
    "content_layer_names = [\"relu3_3\"]"
   ]
  },
  {
   "cell_type": "code",
   "execution_count": null,
   "id": "87cc92de",
   "metadata": {},
   "outputs": [],
   "source": [
    "import tensorflow as tf\n",
    "\n",
    "\n",
    "vgg = tf.keras.applications.VGG19(include_top=False, weights='imagenet')\n",
    "optimizer = tf.keras.optimizers.SGD(learning_rate=0.01, momentum=0.9)\n"
   ]
  }
 ],
 "metadata": {
  "language_info": {
   "name": "python"
  }
 },
 "nbformat": 4,
 "nbformat_minor": 5
}
